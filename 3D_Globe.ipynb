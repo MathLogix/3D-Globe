{
 "cells": [
  {
   "cell_type": "code",
   "execution_count": 1,
   "id": "8b2f22ac",
   "metadata": {},
   "outputs": [
    {
     "name": "stdout",
     "output_type": "stream",
     "text": [
      "pygame 2.5.2 (SDL 2.28.3, Python 3.9.18)\n",
      "Hello from the pygame community. https://www.pygame.org/contribute.html\n"
     ]
    },
    {
     "ename": "GLError",
     "evalue": "GLError(\n\terr = 1282,\n\tdescription = b'invalid operation',\n\tbaseOperation = glClear,\n\tcArguments = (16640,)\n)",
     "output_type": "error",
     "traceback": [
      "\u001b[1;31m---------------------------------------------------------------------------\u001b[0m",
      "\u001b[1;31mGLError\u001b[0m                                   Traceback (most recent call last)",
      "\u001b[1;32m~\\AppData\\Local\\Temp\\ipykernel_15248\\3203962774.py\u001b[0m in \u001b[0;36m<module>\u001b[1;34m\u001b[0m\n\u001b[0;32m     83\u001b[0m \u001b[1;33m\u001b[0m\u001b[0m\n\u001b[0;32m     84\u001b[0m \u001b[1;32mif\u001b[0m \u001b[0m__name__\u001b[0m \u001b[1;33m==\u001b[0m \u001b[1;34m\"__main__\"\u001b[0m\u001b[1;33m:\u001b[0m\u001b[1;33m\u001b[0m\u001b[1;33m\u001b[0m\u001b[0m\n\u001b[1;32m---> 85\u001b[1;33m     \u001b[0mmain\u001b[0m\u001b[1;33m(\u001b[0m\u001b[1;33m)\u001b[0m\u001b[1;33m\u001b[0m\u001b[1;33m\u001b[0m\u001b[0m\n\u001b[0m",
      "\u001b[1;32m~\\AppData\\Local\\Temp\\ipykernel_15248\\3203962774.py\u001b[0m in \u001b[0;36mmain\u001b[1;34m()\u001b[0m\n\u001b[0;32m     71\u001b[0m                 \u001b[0mzoom\u001b[0m \u001b[1;33m+=\u001b[0m \u001b[0mevent\u001b[0m\u001b[1;33m.\u001b[0m\u001b[0my\u001b[0m \u001b[1;33m*\u001b[0m \u001b[1;36m0.5\u001b[0m\u001b[1;33m\u001b[0m\u001b[1;33m\u001b[0m\u001b[0m\n\u001b[0;32m     72\u001b[0m \u001b[1;33m\u001b[0m\u001b[0m\n\u001b[1;32m---> 73\u001b[1;33m         \u001b[0mglClear\u001b[0m\u001b[1;33m(\u001b[0m\u001b[0mGL_COLOR_BUFFER_BIT\u001b[0m \u001b[1;33m|\u001b[0m \u001b[0mGL_DEPTH_BUFFER_BIT\u001b[0m\u001b[1;33m)\u001b[0m\u001b[1;33m\u001b[0m\u001b[1;33m\u001b[0m\u001b[0m\n\u001b[0m\u001b[0;32m     74\u001b[0m         \u001b[0mglLoadIdentity\u001b[0m\u001b[1;33m(\u001b[0m\u001b[1;33m)\u001b[0m\u001b[1;33m\u001b[0m\u001b[1;33m\u001b[0m\u001b[0m\n\u001b[0;32m     75\u001b[0m         \u001b[0mgluPerspective\u001b[0m\u001b[1;33m(\u001b[0m\u001b[1;36m45\u001b[0m\u001b[1;33m,\u001b[0m \u001b[1;33m(\u001b[0m\u001b[0mdisplay\u001b[0m\u001b[1;33m[\u001b[0m\u001b[1;36m0\u001b[0m\u001b[1;33m]\u001b[0m \u001b[1;33m/\u001b[0m \u001b[0mdisplay\u001b[0m\u001b[1;33m[\u001b[0m\u001b[1;36m1\u001b[0m\u001b[1;33m]\u001b[0m\u001b[1;33m)\u001b[0m\u001b[1;33m,\u001b[0m \u001b[1;36m0.1\u001b[0m\u001b[1;33m,\u001b[0m \u001b[1;36m50.0\u001b[0m\u001b[1;33m)\u001b[0m\u001b[1;33m\u001b[0m\u001b[1;33m\u001b[0m\u001b[0m\n",
      "\u001b[1;32msrc/errorchecker.pyx\u001b[0m in \u001b[0;36mOpenGL_accelerate.errorchecker._ErrorChecker.glCheckError\u001b[1;34m()\u001b[0m\n",
      "\u001b[1;31mGLError\u001b[0m: GLError(\n\terr = 1282,\n\tdescription = b'invalid operation',\n\tbaseOperation = glClear,\n\tcArguments = (16640,)\n)"
     ]
    }
   ],
   "source": [
    "import pygame\n",
    "from pygame.locals import *\n",
    "from OpenGL.GL import *\n",
    "from OpenGL.GLU import *\n",
    "import numpy as np\n",
    "\n",
    "# تنظیمات اولیه\n",
    "r = 1.0\n",
    "total = 30\n",
    "angleX = 0\n",
    "angleY = 0\n",
    "zoom = -5\n",
    "mouseDown = False\n",
    "\n",
    "def create_globe(total, r):\n",
    "    globe = []\n",
    "    for i in range(total + 1):\n",
    "        lat = np.linspace(0, np.pi, total + 1)[i]\n",
    "        row = []\n",
    "        for j in range(total + 1):\n",
    "            lon = np.linspace(0, 2 * np.pi, total + 1)[j]\n",
    "            x = r * np.sin(lat) * np.cos(lon)\n",
    "            y = r * np.sin(lat) * np.sin(lon)\n",
    "            z = r * np.cos(lat)\n",
    "            row.append((x, y, z))\n",
    "        globe.append(row)\n",
    "    return globe\n",
    "\n",
    "def draw_globe(globe, total):\n",
    "    for i in range(total):\n",
    "        glBegin(GL_LINE_LOOP)\n",
    "        for j in range(total + 1):\n",
    "            #glColor3f(i / total, j / total, 1)\n",
    "            glColor3f(255,255,255)\n",
    "            glVertex3fv(globe[i][j])\n",
    "            glVertex3fv(globe[i + 1][j])\n",
    "        glEnd()\n",
    "\n",
    "def main():\n",
    "    global angleX, angleY, zoom, mouseDown\n",
    "\n",
    "    pygame.init()\n",
    "    display = (800, 600)\n",
    "    screen = pygame.display.set_mode(display, DOUBLEBUF | OPENGL)\n",
    "    gluPerspective(45, (display[0] / display[1]), 0.1, 50.0)\n",
    "    glTranslatef(0.0, 0.0, zoom)\n",
    "    glEnable(GL_DEPTH_TEST)\n",
    "\n",
    "    globe = create_globe(total, r)\n",
    "\n",
    "    clock = pygame.time.Clock()\n",
    "    last_pos = (0, 0)\n",
    "\n",
    "    while True:\n",
    "        for event in pygame.event.get():\n",
    "            if event.type == pygame.QUIT:\n",
    "                pygame.quit()\n",
    "                quit()\n",
    "            elif event.type == pygame.MOUSEBUTTONDOWN:\n",
    "                mouseDown = True\n",
    "                last_pos = event.pos\n",
    "            elif event.type == pygame.MOUSEBUTTONUP:\n",
    "                mouseDown = False\n",
    "            elif event.type == pygame.MOUSEMOTION and mouseDown:\n",
    "                x, y = event.pos\n",
    "                dx, dy = x - last_pos[0], y - last_pos[1]\n",
    "                angleX += dy * 0.5\n",
    "                angleY += dx * 0.5\n",
    "                last_pos = (x, y)\n",
    "            elif event.type == pygame.MOUSEWHEEL:\n",
    "                zoom += event.y * 0.5\n",
    "\n",
    "        glClear(GL_COLOR_BUFFER_BIT | GL_DEPTH_BUFFER_BIT)\n",
    "        glLoadIdentity()\n",
    "        gluPerspective(45, (display[0] / display[1]), 0.1, 50.0)\n",
    "        glTranslatef(0.0, 0.0, zoom)\n",
    "        glRotatef(angleX, 1, 0, 0)\n",
    "        glRotatef(angleY, 0, 1, 0)\n",
    "        draw_globe(globe, total)\n",
    "\n",
    "        pygame.display.flip()\n",
    "        clock.tick(60)\n",
    "\n",
    "if __name__ == \"__main__\":\n",
    "    main()\n"
   ]
  },
  {
   "cell_type": "code",
   "execution_count": null,
   "id": "4e4baa77",
   "metadata": {},
   "outputs": [],
   "source": []
  }
 ],
 "metadata": {
  "kernelspec": {
   "display_name": "Python 3 (ipykernel)",
   "language": "python",
   "name": "python3"
  },
  "language_info": {
   "codemirror_mode": {
    "name": "ipython",
    "version": 3
   },
   "file_extension": ".py",
   "mimetype": "text/x-python",
   "name": "python",
   "nbconvert_exporter": "python",
   "pygments_lexer": "ipython3",
   "version": "3.9.18"
  }
 },
 "nbformat": 4,
 "nbformat_minor": 5
}
